{
 "cells": [
  {
   "cell_type": "code",
   "execution_count": null,
   "metadata": {
    "pycharm": {
     "is_executing": true
    }
   },
   "outputs": [
    {
     "name": "stdout",
     "output_type": "stream",
     "text": [
      " * Serving Flask app '__main__'\n",
      " * Debug mode: off\n"
     ]
    },
    {
     "name": "stderr",
     "output_type": "stream",
     "text": [
      "WARNING: This is a development server. Do not use it in a production deployment. Use a production WSGI server instead.\n",
      " * Running on http://127.0.0.1:5000\n",
      "Press CTRL+C to quit\n",
      "127.0.0.1 - - [15/Mar/2024 19:00:33] \"GET / HTTP/1.1\" 200 -\n",
      "127.0.0.1 - - [15/Mar/2024 19:00:33] \"GET /favicon.ico HTTP/1.1\" 404 -\n",
      "127.0.0.1 - - [15/Mar/2024 19:00:42] \"POST /main HTTP/1.1\" 200 -\n",
      "127.0.0.1 - - [15/Mar/2024 19:00:44] \"POST /ethical_test HTTP/1.1\" 200 -\n",
      "127.0.0.1 - - [15/Mar/2024 19:00:47] \"POST /answer HTTP/1.1\" 200 -\n",
      "127.0.0.1 - - [15/Mar/2024 19:00:49] \"POST /main HTTP/1.1\" 200 -\n",
      "127.0.0.1 - - [15/Mar/2024 19:00:53] \"POST /ethical_test HTTP/1.1\" 200 -\n",
      "127.0.0.1 - - [15/Mar/2024 19:00:55] \"POST /answer HTTP/1.1\" 200 -\n",
      "127.0.0.1 - - [15/Mar/2024 19:00:57] \"POST /end HTTP/1.1\" 200 -\n",
      "127.0.0.1 - - [15/Mar/2024 19:01:00] \"POST /end HTTP/1.1\" 200 -\n",
      "127.0.0.1 - - [15/Mar/2024 19:01:04] \"GET / HTTP/1.1\" 200 -\n",
      "127.0.0.1 - - [15/Mar/2024 19:01:08] \"POST /main HTTP/1.1\" 200 -\n",
      "127.0.0.1 - - [15/Mar/2024 19:01:09] \"POST /ethical_test HTTP/1.1\" 200 -\n",
      "127.0.0.1 - - [15/Mar/2024 19:01:11] \"POST /answer HTTP/1.1\" 200 -\n",
      "127.0.0.1 - - [15/Mar/2024 19:01:14] \"POST /main HTTP/1.1\" 200 -\n",
      "127.0.0.1 - - [15/Mar/2024 19:01:16] \"POST /ethical_test HTTP/1.1\" 200 -\n",
      "127.0.0.1 - - [15/Mar/2024 19:01:18] \"POST /answer HTTP/1.1\" 200 -\n",
      "127.0.0.1 - - [15/Mar/2024 19:01:19] \"POST /end HTTP/1.1\" 200 -\n"
     ]
    }
   ],
   "source": [
    "from flask import Flask, request, render_template\n",
    "\n",
    "# Creates an instance of the Flask class, which is the WSGI application.\n",
    "app = Flask(__name__)\n",
    "\n",
    "# Decorates the index function to be called when the root URL (\"/\") is accessed with either a GET or POST request\n",
    "@app.route(\"/\",methods = [\"GET\",\"POST\"])\n",
    "def index():  # handling requests to the root URL (\"/\").\n",
    "    return(render_template(\"index.html\"))\n",
    "\n",
    "\n",
    "@app.route(\"/main\",methods = [\"GET\",\"POST\"])\n",
    "def main():  \n",
    "    name = request.form.get(\"name\")\n",
    "    return(render_template(\"main.html\",name=name))\n",
    "\n",
    "@app.route(\"/ethical_test\",methods = [\"GET\",\"POST\"])\n",
    "def ethnical_test():  \n",
    "    return(render_template(\"ethical_test.html\"))\n",
    "\n",
    "@app.route(\"/answer\",methods = [\"GET\",\"POST\"])\n",
    "def answer():\n",
    "    ans = request.form[\"options\"]  \n",
    "    if ans ==\"true\":\n",
    "        return(render_template(\"correct.html\"))\n",
    "    else:\n",
    "        return(render_template(\"wrong.html\"))\n",
    "\n",
    "@app.route(\"/end\",methods = [\"GET\",\"POST\"])\n",
    "def end():  \n",
    "    return(render_template(\"end.html\"))\n",
    "\n",
    "if __name__ ==\"__main__\":\n",
    "    app.run()\n"
   ]
  },
  {
   "cell_type": "code",
   "execution_count": null,
   "metadata": {},
   "outputs": [],
   "source": []
  }
 ],
 "metadata": {
  "kernelspec": {
   "display_name": "Python 3 (ipykernel)",
   "language": "python",
   "name": "python3"
  },
  "language_info": {
   "codemirror_mode": {
    "name": "ipython",
    "version": 3
   },
   "file_extension": ".py",
   "mimetype": "text/x-python",
   "name": "python",
   "nbconvert_exporter": "python",
   "pygments_lexer": "ipython3",
   "version": "3.11.3"
  }
 },
 "nbformat": 4,
 "nbformat_minor": 2
}
